{
 "cells": [
  {
   "cell_type": "markdown",
   "metadata": {
    "id": "v4DW9ikPQvSF"
   },
   "source": [
    "### **Required Dependencies**"
   ]
  },
  {
   "cell_type": "code",
   "execution_count": 1,
   "metadata": {
    "id": "m1NVuYSFQ9OZ"
   },
   "outputs": [],
   "source": [
    "# !pip install googletrans==3.1.0a0\n",
    "# !pip install rake-nltk"
   ]
  },
  {
   "cell_type": "code",
   "execution_count": 2,
   "metadata": {
    "id": "RDolb_msQ0YH"
   },
   "outputs": [],
   "source": [
    "import json, nltk, string, pandas as pd, os, re\n",
    "from rake_nltk import Rake\n",
    "# from nltk.stem import WordNetLemmatizer\n",
    "# from nltk.corpus import stopwords\n",
    "from googletrans import Translator as tns"
   ]
  },
  {
   "cell_type": "code",
   "execution_count": 3,
   "metadata": {
    "id": "vFfbv_B4VqG5"
   },
   "outputs": [
    {
     "name": "stderr",
     "output_type": "stream",
     "text": [
      "[nltk_data] Downloading package stopwords to\n",
      "[nltk_data]     C:\\Users\\DELL\\AppData\\Roaming\\nltk_data...\n",
      "[nltk_data]   Package stopwords is already up-to-date!\n"
     ]
    },
    {
     "data": {
      "text/plain": [
       "True"
      ]
     },
     "execution_count": 3,
     "metadata": {},
     "output_type": "execute_result"
    }
   ],
   "source": [
    "nltk.download('stopwords')"
   ]
  },
  {
   "cell_type": "markdown",
   "metadata": {
    "id": "LPcNgIM-Ma0L"
   },
   "source": [
    "### **Language Transformation**"
   ]
  },
  {
   "cell_type": "code",
   "execution_count": 4,
   "metadata": {
    "id": "Q3vyFZyZTibe"
   },
   "outputs": [],
   "source": [
    "def lang_transform(query) :\n",
    "    translator = tns()\n",
    "    return translator.translate(query, dest=\"en\").text"
   ]
  },
  {
   "cell_type": "markdown",
   "metadata": {
    "id": "7Fta1CPeTlWd"
   },
   "source": [
    "### **Key Term Extraction**"
   ]
  },
  {
   "cell_type": "code",
   "execution_count": 5,
   "metadata": {
    "colab": {
     "base_uri": "https://localhost:8080/"
    },
    "id": "8FE7fnKKTjjj",
    "outputId": "6f69448c-07a0-4bec-e11d-8801ae0e30c3"
   },
   "outputs": [],
   "source": [
    "# stop_words = stopwords.words(\"english\")\n",
    "# lemmatizer = WordNetLemmatizer()\n",
    "# key_terms = [lemmatizer.lemmatize(t) for t in transformed_query.split() if t not in stop_words and t not in string.punctuation and len(t) > 2]\n",
    "# print(\"Query : \", transformed_query, \"\\nKey Terms : \", key_terms)\n",
    "\n",
    "def search(query) :\n",
    "    transformed_query = lang_transform(query)\n",
    "\n",
    "    rake = Rake()\n",
    "    rake.extract_keywords_from_text(transformed_query)\n",
    "    keywords_extracted = rake.get_ranked_phrases()\n",
    "    \n",
    "    return keywords_extracted, transformed_query\n"
   ]
  },
  {
   "cell_type": "markdown",
   "metadata": {
    "id": "QymU3x1bP429"
   },
   "source": [
    "### **Data Munging & Visualization**"
   ]
  },
  {
   "cell_type": "code",
   "execution_count": 6,
   "metadata": {
    "id": "PCam6xSHP2YU",
    "scrolled": true
   },
   "outputs": [],
   "source": [
    "file = os.getcwd()+\"\\\\first-aid_dataset\\\\dataset.json\"\n",
    "\n",
    "dataset = json.load(open(file))\n",
    "\n",
    "# dataset = None\n",
    "# with open(file, 'r') as f:\n",
    "#     dataset = json.loads(f.read())"
   ]
  },
  {
   "cell_type": "code",
   "execution_count": 7,
   "metadata": {
    "id": "txJU--7jTQRX"
   },
   "outputs": [],
   "source": [
    "dataframe = pd.DataFrame.from_dict(dataset[\"intents\"])"
   ]
  },
  {
   "cell_type": "code",
   "execution_count": 8,
   "metadata": {
    "id": "B7SOT3CFtQbh"
   },
   "outputs": [],
   "source": [
    "dataframe.drop(columns=\"context_set\", inplace=True) # Empty Useless\n",
    "# dataframe.rename(columns = {\"tag\":\"symptoms\"}, inplace=True)"
   ]
  },
  {
   "cell_type": "code",
   "execution_count": 9,
   "metadata": {
    "colab": {
     "base_uri": "https://localhost:8080/"
    },
    "id": "lyr0yS29tCEc",
    "outputId": "fa10ec55-38aa-41db-9799-aed1099b9d46"
   },
   "outputs": [],
   "source": [
    "# dataframe.shape"
   ]
  },
  {
   "cell_type": "code",
   "execution_count": 10,
   "metadata": {
    "colab": {
     "base_uri": "https://localhost:8080/"
    },
    "id": "twoZoo7GcGnK",
    "outputId": "a06a3993-0fc2-4c28-c0f6-68cd8e33c473"
   },
   "outputs": [],
   "source": [
    "# dataframe.columns"
   ]
  },
  {
   "cell_type": "code",
   "execution_count": 11,
   "metadata": {
    "colab": {
     "base_uri": "https://localhost:8080/"
    },
    "id": "QHg9aQ_cbaLk",
    "outputId": "c87efbfa-d3e3-471d-e9aa-8978e8efbbe5",
    "scrolled": true
   },
   "outputs": [],
   "source": [
    "# dataframe.info()"
   ]
  },
  {
   "cell_type": "code",
   "execution_count": 12,
   "metadata": {
    "colab": {
     "base_uri": "https://localhost:8080/",
     "height": 1000
    },
    "id": "4RiNOgxXd9Qg",
    "outputId": "9a313b28-b84c-4c43-902f-e34a180ed2d3",
    "scrolled": false
   },
   "outputs": [],
   "source": [
    "dataframe.tag = [str(n).lower() for n in dataframe.tag]\n",
    "dataframe.patterns = [str(n).lower() for n in dataframe.patterns]"
   ]
  },
  {
   "cell_type": "code",
   "execution_count": 13,
   "metadata": {},
   "outputs": [],
   "source": [
    "# dataframe"
   ]
  },
  {
   "cell_type": "code",
   "execution_count": 14,
   "metadata": {
    "colab": {
     "base_uri": "https://localhost:8080/"
    },
    "id": "hqctQ-hAdhs6",
    "outputId": "056385e6-9133-4eb2-d3b5-76be3821249b"
   },
   "outputs": [],
   "source": [
    "# Empty Checks\n",
    "cnt = 0\n",
    "for r in dataframe[\"responses\"].values :\n",
    "    if \" \" in r : cnt += 1\n",
    "        \n",
    "# print(\"Empty Rows \\t: \", cnt, \"\\nNon-Empty Rows  : \",len(dataframe.responses)-cnt,\"\\nTotal Rows \\t: \",len(dataframe.responses))"
   ]
  },
  {
   "cell_type": "code",
   "execution_count": 15,
   "metadata": {},
   "outputs": [],
   "source": [
    "tags = list(dataframe.tag)\n",
    "patterns = list(dataframe.patterns)\n",
    "#tags"
   ]
  },
  {
   "cell_type": "code",
   "execution_count": 16,
   "metadata": {},
   "outputs": [],
   "source": [
    "def search_results(query) :\n",
    "    d = dict()\n",
    "    keywords, transformed_query = search(query)\n",
    "    global tags, patterns, dataframe\n",
    "    \n",
    "    for t, p in zip(tags, patterns) :\n",
    "        for kwrd in keywords :\n",
    "            if re.findall(kwrd, t) or re.findall(t,kwrd) :\n",
    "                d[t] = {\"question\" : dataframe[dataframe.tag == t].patterns.tolist(), \"response\" : dataframe[dataframe.tag == t].responses.tolist(), \"transformed_query\" : transformed_query}\n",
    "    \n",
    "    if d.keys() : return json.dumps(d)\n",
    "    else : return \"Sorry, I didn't understood what you are saying.!\"\n"
   ]
  },
  {
   "cell_type": "code",
   "execution_count": 19,
   "metadata": {
    "scrolled": false
   },
   "outputs": [
    {
     "name": "stdout",
     "output_type": "stream",
     "text": [
      "Search : mane daajiyu che\n"
     ]
    },
    {
     "data": {
      "text/plain": [
       "'{\"sun burn\": {\"question\": [\"[\\'how do you treat sun burn?\\', \\'what to do if i get a sun burn?\\', \\'which medicine to take if i get sun burn?\\', \\'how to cure a sun burn?\\']\"], \"response\": [[\"1) Get out of the sun and preferably go indoors. 2) Avoid further sun exposure until the sunburn heals. 3) Cool the skin with a damp cloth or towel, or take a cool bath. 4) Apply moisturizer or aftersun cream, such as aloe vera. 5) Take over-the-counter medications, such as ibuprofen or other nonsteroidal anti-inflammatory medications (NSAIDs) to relieve pain and reduce swelling. 6) Apply hydrocortisone cream to reduce inflammation and itching. 7) Drink extra water to help prevent dehydration. 8) Avoid touching or breaking small blisters to reduce the risk of infection. Blisters protect the skin. 9) Avoid scratching, picking at, or removing peeling skin. 10) Wear loose-fitting clothing while the skin heals. 11) If you experience any difficulty like fever over 103 F (39.4 C) with vomiting or any similar abnormalities, Kindly visit nearest hospital.\"]], \"transformed_query\": \"I have a burn\"}, \"chemical burn\": {\"question\": [\"[\\'how do you treat a chemical burn?\\', \\'what to do if i get a chemical burn?\\', \\'which medicine to take if i get burn due to chemicals?\\', \\'how to cure chemical burn?\\']\"], \"response\": [[\"1) Make sure the area is safe for you and the victim and make sure you do not come into contact with the chemical yourself unprotected. 2) Shout or call for help if you are alone but do not leave the person alone. Ask a bystander to seek help or to arrange urgent transport to the nearest healthcare facility or hospital. Tell him to come back to you to confirm if help has been secured. 3) Wear gloves to protect yourself. If no gloves are available, use a plastic bag to cover your hands. 4) Remove the cause of the burn by first brushing off any remaining dry chemical and then rinsing the chemical off the skin surface with cool, gently running water for 10 to 15 minutes. 5) Remove clothing or jewellery that has been contaminated by the chemical. 6) Wrap the burned area loosely with a clean cloth. 7) Rewash the burned area for several more minutes if the person experiences increased burning after the initial washing. 8) Arrange transport to the nearest healthcare facility.\"]], \"transformed_query\": \"I have a burn\"}}'"
      ]
     },
     "execution_count": 19,
     "metadata": {},
     "output_type": "execute_result"
    }
   ],
   "source": [
    "query = input(\"Search : \")\n",
    "search_results(query)\n",
    "\n",
    "# search_results(\"mane mathu dukhe sathe khasi bhi che\")"
   ]
  },
  {
   "cell_type": "code",
   "execution_count": null,
   "metadata": {},
   "outputs": [],
   "source": [
    "import pickle\n",
    "\n",
    "pickle.dumps(search_result(query))"
   ]
  }
 ],
 "metadata": {
  "colab": {
   "provenance": []
  },
  "kernelspec": {
   "display_name": "Python 3",
   "language": "python",
   "name": "python3"
  },
  "language_info": {
   "codemirror_mode": {
    "name": "ipython",
    "version": 3
   },
   "file_extension": ".py",
   "mimetype": "text/x-python",
   "name": "python",
   "nbconvert_exporter": "python",
   "pygments_lexer": "ipython3",
   "version": "3.6.5"
  }
 },
 "nbformat": 4,
 "nbformat_minor": 1
}
